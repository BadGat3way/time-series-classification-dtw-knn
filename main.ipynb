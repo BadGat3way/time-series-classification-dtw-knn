{
  "nbformat": 4,
  "nbformat_minor": 0,
  "metadata": {
    "colab": {
      "provenance": []
    },
    "kernelspec": {
      "name": "python3",
      "display_name": "Python 3"
    },
    "language_info": {
      "name": "python"
    }
  },
  "cells": [
    {
      "cell_type": "code",
      "execution_count": 1,
      "metadata": {
        "colab": {
          "base_uri": "https://localhost:8080/"
        },
        "id": "hplR1ht-zBzf",
        "outputId": "fb8d39d4-845e-4e9b-a224-9718f4336251"
      },
      "outputs": [
        {
          "output_type": "stream",
          "name": "stdout",
          "text": [
            "Requirement already satisfied: yfinance in /usr/local/lib/python3.10/dist-packages (0.2.31)\n",
            "Collecting fastdtw\n",
            "  Downloading fastdtw-0.3.4.tar.gz (133 kB)\n",
            "\u001b[2K     \u001b[90m━━━━━━━━━━━━━━━━━━━━━━━━━━━━━━━━━━━━━━━━\u001b[0m \u001b[32m133.4/133.4 kB\u001b[0m \u001b[31m2.8 MB/s\u001b[0m eta \u001b[36m0:00:00\u001b[0m\n",
            "\u001b[?25h  Preparing metadata (setup.py) ... \u001b[?25l\u001b[?25hdone\n",
            "Requirement already satisfied: numpy in /usr/local/lib/python3.10/dist-packages (1.23.5)\n",
            "Requirement already satisfied: scikit-learn in /usr/local/lib/python3.10/dist-packages (1.2.2)\n",
            "Requirement already satisfied: pandas>=1.3.0 in /usr/local/lib/python3.10/dist-packages (from yfinance) (1.5.3)\n",
            "Requirement already satisfied: requests>=2.31 in /usr/local/lib/python3.10/dist-packages (from yfinance) (2.31.0)\n",
            "Requirement already satisfied: multitasking>=0.0.7 in /usr/local/lib/python3.10/dist-packages (from yfinance) (0.0.11)\n",
            "Requirement already satisfied: lxml>=4.9.1 in /usr/local/lib/python3.10/dist-packages (from yfinance) (4.9.3)\n",
            "Requirement already satisfied: appdirs>=1.4.4 in /usr/local/lib/python3.10/dist-packages (from yfinance) (1.4.4)\n",
            "Requirement already satisfied: pytz>=2022.5 in /usr/local/lib/python3.10/dist-packages (from yfinance) (2023.3.post1)\n",
            "Requirement already satisfied: frozendict>=2.3.4 in /usr/local/lib/python3.10/dist-packages (from yfinance) (2.3.8)\n",
            "Requirement already satisfied: peewee>=3.16.2 in /usr/local/lib/python3.10/dist-packages (from yfinance) (3.17.0)\n",
            "Requirement already satisfied: beautifulsoup4>=4.11.1 in /usr/local/lib/python3.10/dist-packages (from yfinance) (4.11.2)\n",
            "Requirement already satisfied: html5lib>=1.1 in /usr/local/lib/python3.10/dist-packages (from yfinance) (1.1)\n",
            "Requirement already satisfied: scipy>=1.3.2 in /usr/local/lib/python3.10/dist-packages (from scikit-learn) (1.11.3)\n",
            "Requirement already satisfied: joblib>=1.1.1 in /usr/local/lib/python3.10/dist-packages (from scikit-learn) (1.3.2)\n",
            "Requirement already satisfied: threadpoolctl>=2.0.0 in /usr/local/lib/python3.10/dist-packages (from scikit-learn) (3.2.0)\n",
            "Requirement already satisfied: soupsieve>1.2 in /usr/local/lib/python3.10/dist-packages (from beautifulsoup4>=4.11.1->yfinance) (2.5)\n",
            "Requirement already satisfied: six>=1.9 in /usr/local/lib/python3.10/dist-packages (from html5lib>=1.1->yfinance) (1.16.0)\n",
            "Requirement already satisfied: webencodings in /usr/local/lib/python3.10/dist-packages (from html5lib>=1.1->yfinance) (0.5.1)\n",
            "Requirement already satisfied: python-dateutil>=2.8.1 in /usr/local/lib/python3.10/dist-packages (from pandas>=1.3.0->yfinance) (2.8.2)\n",
            "Requirement already satisfied: charset-normalizer<4,>=2 in /usr/local/lib/python3.10/dist-packages (from requests>=2.31->yfinance) (3.3.2)\n",
            "Requirement already satisfied: idna<4,>=2.5 in /usr/local/lib/python3.10/dist-packages (from requests>=2.31->yfinance) (3.4)\n",
            "Requirement already satisfied: urllib3<3,>=1.21.1 in /usr/local/lib/python3.10/dist-packages (from requests>=2.31->yfinance) (2.0.7)\n",
            "Requirement already satisfied: certifi>=2017.4.17 in /usr/local/lib/python3.10/dist-packages (from requests>=2.31->yfinance) (2023.7.22)\n",
            "Building wheels for collected packages: fastdtw\n",
            "  Building wheel for fastdtw (setup.py) ... \u001b[?25l\u001b[?25hdone\n",
            "  Created wheel for fastdtw: filename=fastdtw-0.3.4-cp310-cp310-linux_x86_64.whl size=512412 sha256=c4d9651c4a780e7742a20a29f98a89e6b3889bf9393dec5e6e2d474c654a4f11\n",
            "  Stored in directory: /root/.cache/pip/wheels/73/c8/f7/c25448dab74c3acf4848bc25d513c736bb93910277e1528ef4\n",
            "Successfully built fastdtw\n",
            "Installing collected packages: fastdtw\n",
            "Successfully installed fastdtw-0.3.4\n"
          ]
        }
      ],
      "source": [
        "pip install yfinance fastdtw numpy scikit-learn"
      ]
    },
    {
      "cell_type": "code",
      "source": [
        "import yfinance as yf\n",
        "import numpy as np\n",
        "from fastdtw import fastdtw\n",
        "from sklearn.model_selection import KFold, GridSearchCV\n",
        "from sklearn.neighbors import KNeighborsClassifier"
      ],
      "metadata": {
        "id": "OIiOeyyNzOnr"
      },
      "execution_count": 2,
      "outputs": []
    },
    {
      "cell_type": "code",
      "source": [
        "def dtw_distance(stock_1, stock_2):\n",
        "\n",
        "   # Computes the Dynamic Time Warping (DTW) distance between two stock time series.\n",
        "   # The lower the result, the more similar the two stock patterns are.\n",
        "\n",
        "   distance, _ = fastdtw(stock_1, stock_2)\n",
        "   return float(distance)"
      ],
      "metadata": {
        "id": "jpvwPEc3WNbl"
      },
      "execution_count": 3,
      "outputs": []
    },
    {
      "cell_type": "code",
      "source": [
        "#  To download Stock Data\n",
        "# We'll use yfinance to get the closing prices of various companies for a specified time period.\n",
        "tickers = [\"AAPL\", \"MSFT\", \"AMZN\", \"META\", \"GOOGL\", \"GOOG\", \"TSLA\", \"JPM\", \"JNJ\", \"V\", \"PG\", \"NVDA\", \"HD\", \"UNH\", \"PYPL\"]\n",
        "start_date = \"2022-01-01\"\n",
        "end_date = \"2023-01-01\"\n",
        "\n",
        "data = {ticker: yf.download(ticker, start=start_date, end=end_date)['Close'].tolist() for ticker in tickers}\n",
        "\n",
        "# Prepare data for our model\n",
        "X = [data[ticker] for ticker in tickers]\n",
        "y = tickers\n"
      ],
      "metadata": {
        "id": "PuQBBQneW4ch",
        "colab": {
          "base_uri": "https://localhost:8080/"
        },
        "outputId": "0ea01b23-1179-408f-a562-122af2d7ae75"
      },
      "execution_count": 4,
      "outputs": [
        {
          "output_type": "stream",
          "name": "stdout",
          "text": [
            "[*********************100%%**********************]  1 of 1 completed\n",
            "[*********************100%%**********************]  1 of 1 completed\n",
            "[*********************100%%**********************]  1 of 1 completed\n",
            "[*********************100%%**********************]  1 of 1 completed\n",
            "[*********************100%%**********************]  1 of 1 completed\n",
            "[*********************100%%**********************]  1 of 1 completed\n",
            "[*********************100%%**********************]  1 of 1 completed\n",
            "[*********************100%%**********************]  1 of 1 completed\n",
            "[*********************100%%**********************]  1 of 1 completed\n",
            "[*********************100%%**********************]  1 of 1 completed\n",
            "[*********************100%%**********************]  1 of 1 completed\n",
            "[*********************100%%**********************]  1 of 1 completed\n",
            "[*********************100%%**********************]  1 of 1 completed\n",
            "[*********************100%%**********************]  1 of 1 completed\n",
            "[*********************100%%**********************]  1 of 1 completed\n"
          ]
        }
      ]
    },
    {
      "cell_type": "code",
      "source": [
        "#  Calculate Similarities Between Stocks\n",
        "# We're going to compare every stock's price patterns with every other stock's patterns.\n",
        "dtw_matrix = np.zeros((len(tickers), len(tickers)))\n",
        "for i in range(len(tickers)):\n",
        "   for j in range(len(tickers)):\n",
        "       dtw_matrix[i, j] = dtw_distance(X[i], X[j])\n",
        "\n",
        "print(\"\\nHow Similar Are These Stocks?\")\n",
        "print(dtw_matrix)"
      ],
      "metadata": {
        "colab": {
          "base_uri": "https://localhost:8080/"
        },
        "id": "v6AqgVEVojKC",
        "outputId": "02cb3ef8-a26b-459e-8387-d0cc02af8c30"
      },
      "execution_count": 5,
      "outputs": [
        {
          "output_type": "stream",
          "name": "stdout",
          "text": [
            "\n",
            "How Similar Are These Stocks?\n",
            "[[     0.          28634.58992767   4762.0749054    7237.20053101\n",
            "    9120.32863617   9006.72057343  25913.40322113   4447.52022552\n",
            "    3650.09998322  13048.3899765    1692.61000824   6755.4703598\n",
            "   39030.3899765   89200.17006683  12386.17977142]\n",
            " [ 28634.58992767      0.          35847.38639069  15911.22063446\n",
            "   38693.3368988   38584.56642151   5961.91970825  35337.78993225\n",
            "   24194.02993774  14258.73002625  30556.77986145  12758.58021545\n",
            "    6962.71984863  60565.58013916  43150.95980835]\n",
            " [  4976.70491791  35847.38639069      0.          10160.62548828\n",
            "    2019.66538239   1904.89358521  31731.60617065   3114.89768982\n",
            "   10831.90364838  20300.42644501   4180.66516113  11571.37967682\n",
            "   46243.18643951  96412.96652985   2394.26135254]\n",
            " [  7327.18057251  16006.07065582  10168.41599274      0.\n",
            "   13025.81711578  12922.69412231   5929.9103241    8196.28995514\n",
            "   10032.62018585   9466.98949432   9459.37913513   4677.56047821\n",
            "   28626.21875763  82836.65991974   7548.63012695]\n",
            " [  9229.19166565  38693.3368988    2034.32991791  13099.83017731\n",
            "       0.            114.7784729   35615.6333847    2805.78888702\n",
            "   14499.30696106  23146.37695312   5666.89962006  14790.30397797\n",
            "   49089.13694763  99258.91703796   2227.49229431]\n",
            " [  9106.29499817  38584.56642151   1913.28958893  12982.56716919\n",
            "     114.7784729       0.          35488.6497879    2750.81874084\n",
            "   14390.53648376  23037.60647583   5933.65640259  14663.40092468\n",
            "   48980.36647034  99150.14656067   2259.62578583]\n",
            " [ 25466.54314423   5946.31637573  31009.15164948   5905.12698364\n",
            "   35085.11491394  34951.7802887       0.          31979.36326599\n",
            "   22354.79421997  13016.29359436  28468.05291748   5553.90379333\n",
            "   10403.10606384  62027.40672302  31044.97273254]\n",
            " [  4329.09027863  35337.78993225   3066.06018829   8278.65000153\n",
            "    2853.38492584   2753.75022888  32625.7133255       0.\n",
            "   10968.15985107  19790.82998657   1971.10005188   8559.75955963\n",
            "   45733.58998108  95903.37007141   5901.78975677]\n",
            " [  3678.81996918  24194.02993774  10697.42856598   9968.26015472\n",
            "   14499.30696106  14390.53648376  22670.72386169  10981.90983582\n",
            "       0.           8245.54995728   6210.4197998    8572.27993774\n",
            "   34589.82998657  84759.6100769   18162.46925354]\n",
            " [ 13035.30997467  14553.38998413  20300.42644501   9466.98949432\n",
            "   23146.37695312  23037.60647583  13016.29359436  19790.82998657\n",
            "    8133.6000061       0.          15009.81991577   8016.49964905\n",
            "   25942.75999451  76112.54008484  26581.53935242]\n",
            " [  1670.39998627  30556.77986145   4180.7351532    9522.46911621\n",
            "    5666.89962006   5930.79592896  28865.12295532   1971.10005188\n",
            "    6220.18988037  15009.81991577      0.           8350.16953278\n",
            "   40952.57991028  91122.36000061  10616.68981934]\n",
            " [  6352.79033661  12762.29026794  11570.29018402   4684.24047089\n",
            "   14758.83843994  14637.74547577   5553.90379333   8560.94954681\n",
            "    8581.73985291   7998.11965942   8325.84952545      0.\n",
            "   29703.41970825  81455.69006348  12158.9992218 ]\n",
            " [ 39030.3899765    6944.26983643  46243.18643951  27584.73816681\n",
            "   49089.13694763  48980.36647034  10403.10606384  45733.58998108\n",
            "   34589.82998657  25942.75999451  40952.57991028  29288.33966064\n",
            "       0.          50169.78009033  53546.75985718]\n",
            " [ 89200.17006683  60565.58013916  96412.96652985  82836.65991974\n",
            "   99258.91703796  99150.14656067  62027.40672302  95903.37007141\n",
            "   84759.6100769   76112.54008484  91122.36000061  81455.69006348\n",
            "   50169.78009033      0.         103716.53994751]\n",
            " [ 12448.98973083  43150.95980835   2394.26135254   7548.63012695\n",
            "    2227.49229431   2258.52578735  33706.01285553   5921.13976288\n",
            "   19227.31990051  26834.38946533  10690.68981171  12158.9992218\n",
            "   53546.75985718 103716.53994751      0.        ]]\n"
          ]
        }
      ]
    },
    {
      "cell_type": "code",
      "source": [
        "import seaborn as sns\n",
        "import matplotlib.pylab as plt\n",
        "\n",
        "sns.heatmap(dtw_matrix, linewidth=0.5)"
      ],
      "metadata": {
        "colab": {
          "base_uri": "https://localhost:8080/",
          "height": 447
        },
        "id": "_pL1kCrVqInC",
        "outputId": "35bc7e94-f9b9-463e-f1ff-732d48df119e"
      },
      "execution_count": 11,
      "outputs": [
        {
          "output_type": "execute_result",
          "data": {
            "text/plain": [
              "<Axes: >"
            ]
          },
          "metadata": {},
          "execution_count": 11
        },
        {
          "output_type": "display_data",
          "data": {
            "text/plain": [
              "<Figure size 640x480 with 2 Axes>"
            ],
            "image/png": "[encoded data removed]"
          },
          "metadata": {}
        }
      ]
    },
    {
      "cell_type": "code",
      "source": [
        "#  Find Most Similar Stocks\n",
        "# Using K-nearest neighbors with our DTW distance metric to find the most similar stocks.\n",
        "knn = KNeighborsClassifier(metric=dtw_distance)\n",
        "\n",
        "# Using KFold to split our data into parts (or \"folds\") for cross-validation.\n",
        "cv = KFold(n_splits=3, shuffle=True, random_state=42)\n",
        "\n",
        "# Let's try different values for K (number of neighbors) to find the best one.\n",
        "param_grid = {'n_neighbors': list(range(1, min(len(tickers)-1, 10)))}\n",
        "\n",
        "# GridSearchCV will try out each value of K and tell us the best one.\n",
        "grid_search = GridSearchCV(knn, param_grid, cv=cv)\n",
        "grid_search.fit(X, y)\n",
        "\n",
        "print(f\"\\nBest Number of Neighbors: {grid_search.best_params_['n_neighbors']}\")\n"
      ],
      "metadata": {
        "colab": {
          "base_uri": "https://localhost:8080/"
        },
        "id": "xfXWGPP5ou2m",
        "outputId": "ef6f8e24-699f-46e4-f005-c61ad77bad8e"
      },
      "execution_count": 6,
      "outputs": [
        {
          "output_type": "stream",
          "name": "stdout",
          "text": [
            "\n",
            "Best Number of Neighbors: 1\n"
          ]
        }
      ]
    },
    {
      "cell_type": "code",
      "source": [
        "# For each stock, let's find out which other stock is most similar to it.\n",
        "distances, neighbors_idx = grid_search.best_estimator_.kneighbors(X, 2)\n",
        "for i, ticker in enumerate(tickers):\n",
        "   print(f\"\\n{ticker}'s closest neighbour is {tickers[neighbors_idx[i][1]]} with a similarity score of {distances[i][1]}.\")\n"
      ],
      "metadata": {
        "colab": {
          "base_uri": "https://localhost:8080/"
        },
        "id": "79H_cJMSoymx",
        "outputId": "e9752522-43c2-4447-8d40-0c59445bb052"
      },
      "execution_count": 7,
      "outputs": [
        {
          "output_type": "stream",
          "name": "stdout",
          "text": [
            "\n",
            "AAPL's closest neighbour is PG with a similarity score of 1692.610008239746.\n",
            "\n",
            "MSFT's closest neighbour is TSLA with a similarity score of 5961.919708251953.\n",
            "\n",
            "AMZN's closest neighbour is GOOG with a similarity score of 1904.8935852050781.\n",
            "\n",
            "META's closest neighbour is NVDA with a similarity score of 4677.560478210449.\n",
            "\n",
            "GOOGL's closest neighbour is GOOG with a similarity score of 114.77847290039062.\n",
            "\n",
            "GOOG's closest neighbour is GOOGL with a similarity score of 114.77847290039062.\n",
            "\n",
            "TSLA's closest neighbour is NVDA with a similarity score of 5553.903793334961.\n",
            "\n",
            "JPM's closest neighbour is PG with a similarity score of 1971.1000518798828.\n",
            "\n",
            "JNJ's closest neighbour is AAPL with a similarity score of 3678.819969177246.\n",
            "\n",
            "V's closest neighbour is NVDA with a similarity score of 8016.499649047852.\n",
            "\n",
            "PG's closest neighbour is AAPL with a similarity score of 1670.3999862670898.\n",
            "\n",
            "NVDA's closest neighbour is META with a similarity score of 4684.2404708862305.\n",
            "\n",
            "HD's closest neighbour is MSFT with a similarity score of 6944.269836425781.\n",
            "\n",
            "UNH's closest neighbour is HD with a similarity score of 50169.78009033203.\n",
            "\n",
            "PYPL's closest neighbour is GOOGL with a similarity score of 2227.4922943115234.\n"
          ]
        }
      ]
    }
  ]
}